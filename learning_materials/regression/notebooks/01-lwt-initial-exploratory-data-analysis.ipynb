{
 "metadata": {
  "language_info": {
   "codemirror_mode": {
    "name": "ipython",
    "version": 3
   },
   "file_extension": ".py",
   "mimetype": "text/x-python",
   "name": "python",
   "nbconvert_exporter": "python",
   "pygments_lexer": "ipython3",
   "version": "3.7.3"
  },
  "orig_nbformat": 2,
  "kernelspec": {
   "name": "python373jvsc74a57bd01c63941848eca01028d2487f6fd037c1e66dfba14b503d31cecd0d9672765ffc",
   "display_name": "Python 3.7.3 64-bit ('base': conda)"
  }
 },
 "nbformat": 4,
 "nbformat_minor": 2,
 "cells": [
  {
   "source": [
    "### 0. Loading and High-level Overview of the Dataset."
   ],
   "cell_type": "markdown",
   "metadata": {}
  },
  {
   "cell_type": "code",
   "execution_count": 1,
   "metadata": {},
   "outputs": [],
   "source": [
    "import matplotlib.pyplot as plt\n",
    "import numpy as np\n",
    "import os\n",
    "import pandas as pd\n",
    "import seaborn as sns\n",
    "import warnings \n",
    "\n",
    "# silence warnings\n",
    "warnings.filterwarnings('ignore')\n",
    "\n",
    "# plotting settings\n",
    "plt.style.use(['ggplot'])"
   ]
  },
  {
   "cell_type": "code",
   "execution_count": 2,
   "metadata": {},
   "outputs": [
    {
     "output_type": "execute_result",
     "data": {
      "text/plain": [
       "'/Users/jensen/Desktop/aiig-suss/learning_materials/regression/notebooks'"
      ]
     },
     "metadata": {},
     "execution_count": 2
    }
   ],
   "source": [
    "# checking current workign directory\n",
    "pwd"
   ]
  },
  {
   "cell_type": "code",
   "execution_count": 3,
   "metadata": {},
   "outputs": [
    {
     "output_type": "execute_result",
     "data": {
      "text/plain": [
       "   Id  MSSubClass MSZoning  LotFrontage  LotArea Street Alley LotShape  \\\n",
       "0   1          60       RL         65.0     8450   Pave   NaN      Reg   \n",
       "1   2          20       RL         80.0     9600   Pave   NaN      Reg   \n",
       "2   3          60       RL         68.0    11250   Pave   NaN      IR1   \n",
       "3   4          70       RL         60.0     9550   Pave   NaN      IR1   \n",
       "4   5          60       RL         84.0    14260   Pave   NaN      IR1   \n",
       "\n",
       "  LandContour Utilities  ... PoolArea PoolQC Fence MiscFeature MiscVal MoSold  \\\n",
       "0         Lvl    AllPub  ...        0    NaN   NaN         NaN       0      2   \n",
       "1         Lvl    AllPub  ...        0    NaN   NaN         NaN       0      5   \n",
       "2         Lvl    AllPub  ...        0    NaN   NaN         NaN       0      9   \n",
       "3         Lvl    AllPub  ...        0    NaN   NaN         NaN       0      2   \n",
       "4         Lvl    AllPub  ...        0    NaN   NaN         NaN       0     12   \n",
       "\n",
       "  YrSold  SaleType  SaleCondition  SalePrice  \n",
       "0   2008        WD         Normal     208500  \n",
       "1   2007        WD         Normal     181500  \n",
       "2   2008        WD         Normal     223500  \n",
       "3   2006        WD        Abnorml     140000  \n",
       "4   2008        WD         Normal     250000  \n",
       "\n",
       "[5 rows x 81 columns]"
      ],
      "text/html": "<div>\n<style scoped>\n    .dataframe tbody tr th:only-of-type {\n        vertical-align: middle;\n    }\n\n    .dataframe tbody tr th {\n        vertical-align: top;\n    }\n\n    .dataframe thead th {\n        text-align: right;\n    }\n</style>\n<table border=\"1\" class=\"dataframe\">\n  <thead>\n    <tr style=\"text-align: right;\">\n      <th></th>\n      <th>Id</th>\n      <th>MSSubClass</th>\n      <th>MSZoning</th>\n      <th>LotFrontage</th>\n      <th>LotArea</th>\n      <th>Street</th>\n      <th>Alley</th>\n      <th>LotShape</th>\n      <th>LandContour</th>\n      <th>Utilities</th>\n      <th>...</th>\n      <th>PoolArea</th>\n      <th>PoolQC</th>\n      <th>Fence</th>\n      <th>MiscFeature</th>\n      <th>MiscVal</th>\n      <th>MoSold</th>\n      <th>YrSold</th>\n      <th>SaleType</th>\n      <th>SaleCondition</th>\n      <th>SalePrice</th>\n    </tr>\n  </thead>\n  <tbody>\n    <tr>\n      <th>0</th>\n      <td>1</td>\n      <td>60</td>\n      <td>RL</td>\n      <td>65.0</td>\n      <td>8450</td>\n      <td>Pave</td>\n      <td>NaN</td>\n      <td>Reg</td>\n      <td>Lvl</td>\n      <td>AllPub</td>\n      <td>...</td>\n      <td>0</td>\n      <td>NaN</td>\n      <td>NaN</td>\n      <td>NaN</td>\n      <td>0</td>\n      <td>2</td>\n      <td>2008</td>\n      <td>WD</td>\n      <td>Normal</td>\n      <td>208500</td>\n    </tr>\n    <tr>\n      <th>1</th>\n      <td>2</td>\n      <td>20</td>\n      <td>RL</td>\n      <td>80.0</td>\n      <td>9600</td>\n      <td>Pave</td>\n      <td>NaN</td>\n      <td>Reg</td>\n      <td>Lvl</td>\n      <td>AllPub</td>\n      <td>...</td>\n      <td>0</td>\n      <td>NaN</td>\n      <td>NaN</td>\n      <td>NaN</td>\n      <td>0</td>\n      <td>5</td>\n      <td>2007</td>\n      <td>WD</td>\n      <td>Normal</td>\n      <td>181500</td>\n    </tr>\n    <tr>\n      <th>2</th>\n      <td>3</td>\n      <td>60</td>\n      <td>RL</td>\n      <td>68.0</td>\n      <td>11250</td>\n      <td>Pave</td>\n      <td>NaN</td>\n      <td>IR1</td>\n      <td>Lvl</td>\n      <td>AllPub</td>\n      <td>...</td>\n      <td>0</td>\n      <td>NaN</td>\n      <td>NaN</td>\n      <td>NaN</td>\n      <td>0</td>\n      <td>9</td>\n      <td>2008</td>\n      <td>WD</td>\n      <td>Normal</td>\n      <td>223500</td>\n    </tr>\n    <tr>\n      <th>3</th>\n      <td>4</td>\n      <td>70</td>\n      <td>RL</td>\n      <td>60.0</td>\n      <td>9550</td>\n      <td>Pave</td>\n      <td>NaN</td>\n      <td>IR1</td>\n      <td>Lvl</td>\n      <td>AllPub</td>\n      <td>...</td>\n      <td>0</td>\n      <td>NaN</td>\n      <td>NaN</td>\n      <td>NaN</td>\n      <td>0</td>\n      <td>2</td>\n      <td>2006</td>\n      <td>WD</td>\n      <td>Abnorml</td>\n      <td>140000</td>\n    </tr>\n    <tr>\n      <th>4</th>\n      <td>5</td>\n      <td>60</td>\n      <td>RL</td>\n      <td>84.0</td>\n      <td>14260</td>\n      <td>Pave</td>\n      <td>NaN</td>\n      <td>IR1</td>\n      <td>Lvl</td>\n      <td>AllPub</td>\n      <td>...</td>\n      <td>0</td>\n      <td>NaN</td>\n      <td>NaN</td>\n      <td>NaN</td>\n      <td>0</td>\n      <td>12</td>\n      <td>2008</td>\n      <td>WD</td>\n      <td>Normal</td>\n      <td>250000</td>\n    </tr>\n  </tbody>\n</table>\n<p>5 rows × 81 columns</p>\n</div>"
     },
     "metadata": {},
     "execution_count": 3
    }
   ],
   "source": [
    "# changing directory\n",
    "os.chdir('../data/raw')\n",
    "\n",
    "# loading the dataset\n",
    "housing_data = pd.read_csv(\"train.csv\")\n",
    "# look at first 5 rows\n",
    "housing_data.head()"
   ]
  },
  {
   "source": [
    "After loading your dataset, you should develop a habit of quickly retrieving an very high level overview of the dataset. This can involves:\n",
    "\n",
    "1. Understanding the `shape` of your dataset – that refers to the number of `rows` and `columns` present.\n",
    "2. Observe the data types (`dtypes`) of each columns so that you understand the possibility of having to cast certain columns to a different type.\n",
    "3. Print out the summary statistics of the dataset to have a better understanding of the value distributions.\n",
    "4. Check if you have any missing or null values in the dataset. Very often than not, real world data is not clean, and that means it would contain missing values in different rows. This may represent a small abnormality in the data collection process, or even highlight significant faults when a column is missing most of its data (> 50%)."
   ],
   "cell_type": "markdown",
   "metadata": {}
  },
  {
   "cell_type": "code",
   "execution_count": 40,
   "metadata": {},
   "outputs": [
    {
     "output_type": "stream",
     "name": "stdout",
     "text": [
      "The dataset consists of: 1460 rows and 81 columns.\n\nId                 int64\nMSSubClass         int64\nMSZoning          object\nLotFrontage      float64\nLotArea            int64\n                  ...   \nMoSold             int64\nYrSold             int64\nSaleType          object\nSaleCondition     object\nSalePrice          int64\nLength: 81, dtype: object\n\nIndex(['Id', 'MSSubClass', 'MSZoning', 'LotFrontage', 'LotArea', 'Street',\n       'Alley', 'LotShape', 'LandContour', 'Utilities', 'LotConfig',\n       'LandSlope', 'Neighborhood', 'Condition1', 'Condition2', 'BldgType',\n       'HouseStyle', 'OverallQual', 'OverallCond', 'YearBuilt', 'YearRemodAdd',\n       'RoofStyle', 'RoofMatl', 'Exterior1st', 'Exterior2nd', 'MasVnrType',\n       'MasVnrArea', 'ExterQual', 'ExterCond', 'Foundation', 'BsmtQual',\n       'BsmtCond', 'BsmtExposure', 'BsmtFinType1', 'BsmtFinSF1',\n       'BsmtFinType2', 'BsmtFinSF2', 'BsmtUnfSF', 'TotalBsmtSF', 'Heating',\n       'HeatingQC', 'CentralAir', 'Electrical', '1stFlrSF', '2ndFlrSF',\n       'LowQualFinSF', 'GrLivArea', 'BsmtFullBath', 'BsmtHalfBath', 'FullBath',\n       'HalfBath', 'BedroomAbvGr', 'KitchenAbvGr', 'KitchenQual',\n       'TotRmsAbvGrd', 'Functional', 'Fireplaces', 'FireplaceQu', 'GarageType',\n       'GarageYrBlt', 'GarageFinish', 'GarageCars', 'GarageArea', 'GarageQual',\n       'GarageCond', 'PavedDrive', 'WoodDeckSF', 'OpenPorchSF',\n       'EnclosedPorch', '3SsnPorch', 'ScreenPorch', 'PoolArea', 'PoolQC',\n       'Fence', 'MiscFeature', 'MiscVal', 'MoSold', 'YrSold', 'SaleType',\n       'SaleCondition', 'SalePrice'],\n      dtype='object')\n"
     ]
    }
   ],
   "source": [
    "# let's print out the overall shape of the dataframe loaded in `housing_data`\n",
    "print(f\"The dataset consists of: {housing_data.shape[0]} rows and {housing_data.shape[1]} columns.\\n\")\n",
    "\n",
    "# let's also check the column names and dtypes\n",
    "print(housing_data.dtypes)\n",
    "\n",
    "# since the results is summarized (or squashed – displaying little rows)\n",
    "# let's print the column names\n",
    "print(f\"\\n{housing_data.columns}\")"
   ]
  },
  {
   "source": [
    "After looking through the column names, and also reading the [overview](https://www.kaggle.com/c/home-data-for-ml-course/overview) of the dataset – over at KLaggle, do you know what's the column we are trying to predict in the `Regression` module? \n",
    "\n",
    "If you guessed `SalePrice` – yes! You are right. Recalling your knowledge on `Supervised Machine Learning`, which is broadly classified under two categories:\n",
    "\n",
    "    1. Classification – categorical target (e.g., Predicting if I will win the lottery or not)\n",
    "    2. Regression – numerical target (e.g., Predicting how much would a 4-room HDB cost at Choa Chu Kang)\n",
    "\n",
    "Since, this is a housing price competition on Kaggle, it would only be logical that we are trying to predict the housing price. As such, `SalePrice` is our target variable."
   ],
   "cell_type": "markdown",
   "metadata": {}
  },
  {
   "cell_type": "code",
   "execution_count": 38,
   "metadata": {},
   "outputs": [
    {
     "output_type": "stream",
     "name": "stdout",
     "text": [
      "The total number of categorical columns: 43, numerical columns: 38\n"
     ]
    }
   ],
   "source": [
    "# since we have a total of 81 rows and columns\n",
    "# let's count the number of numerical vs categorical columns\n",
    "\n",
    "cat_cols = housing_data.dtypes[housing_data.dtypes == 'object']\n",
    "num_cols = housing_data.dtypes[housing_data.dtypes != 'object']\n",
    "\n",
    "# printing to see what's in the two list, feel free to uncomment to see\n",
    "# print(cat_cols)\n",
    "# print(num_cols)     # you observed that numerical columns consists of both `int64` and `float64`\n",
    "\n",
    "# printing the summary\n",
    "print(f\"The total number of categorical columns: {len(cat_cols)}, numerical columns: {len(num_cols)}\")"
   ]
  },
  {
   "source": [
    "By understanding the number of columns – or I would preferred mention it as `features` of either numerical/categorical types, we are able to better plan out the necessary visualisation required to best present each columns. You will see this subsequently later in `Section 1`."
   ],
   "cell_type": "markdown",
   "metadata": {}
  },
  {
   "cell_type": "code",
   "execution_count": 18,
   "metadata": {},
   "outputs": [
    {
     "output_type": "stream",
     "name": "stdout",
     "text": [
      "                 Id   MSSubClass MSZoning  LotFrontage        LotArea Street  \\\ncount   1460.000000  1460.000000     1460  1201.000000    1460.000000   1460   \nunique          NaN          NaN        5          NaN            NaN      2   \ntop             NaN          NaN       RL          NaN            NaN   Pave   \nfreq            NaN          NaN     1151          NaN            NaN   1454   \nmean     730.500000    56.897260      NaN    70.049958   10516.828082    NaN   \nstd      421.610009    42.300571      NaN    24.284752    9981.264932    NaN   \nmin        1.000000    20.000000      NaN    21.000000    1300.000000    NaN   \n25%      365.750000    20.000000      NaN    59.000000    7553.500000    NaN   \n50%      730.500000    50.000000      NaN    69.000000    9478.500000    NaN   \n75%     1095.250000    70.000000      NaN    80.000000   11601.500000    NaN   \nmax     1460.000000   190.000000      NaN   313.000000  215245.000000    NaN   \n\n       Alley LotShape LandContour Utilities  ...     PoolArea PoolQC  Fence  \\\ncount     91     1460        1460      1460  ...  1460.000000      7    281   \nunique     2        4           4         2  ...          NaN      3      4   \ntop     Grvl      Reg         Lvl    AllPub  ...          NaN     Gd  MnPrv   \nfreq      50      925        1311      1459  ...          NaN      3    157   \nmean     NaN      NaN         NaN       NaN  ...     2.758904    NaN    NaN   \nstd      NaN      NaN         NaN       NaN  ...    40.177307    NaN    NaN   \nmin      NaN      NaN         NaN       NaN  ...     0.000000    NaN    NaN   \n25%      NaN      NaN         NaN       NaN  ...     0.000000    NaN    NaN   \n50%      NaN      NaN         NaN       NaN  ...     0.000000    NaN    NaN   \n75%      NaN      NaN         NaN       NaN  ...     0.000000    NaN    NaN   \nmax      NaN      NaN         NaN       NaN  ...   738.000000    NaN    NaN   \n\n       MiscFeature       MiscVal       MoSold       YrSold  SaleType  \\\ncount           54   1460.000000  1460.000000  1460.000000      1460   \nunique           4           NaN          NaN          NaN         9   \ntop           Shed           NaN          NaN          NaN        WD   \nfreq            49           NaN          NaN          NaN      1267   \nmean           NaN     43.489041     6.321918  2007.815753       NaN   \nstd            NaN    496.123024     2.703626     1.328095       NaN   \nmin            NaN      0.000000     1.000000  2006.000000       NaN   \n25%            NaN      0.000000     5.000000  2007.000000       NaN   \n50%            NaN      0.000000     6.000000  2008.000000       NaN   \n75%            NaN      0.000000     8.000000  2009.000000       NaN   \nmax            NaN  15500.000000    12.000000  2010.000000       NaN   \n\n        SaleCondition      SalePrice  \ncount            1460    1460.000000  \nunique              6            NaN  \ntop            Normal            NaN  \nfreq             1198            NaN  \nmean              NaN  180921.195890  \nstd               NaN   79442.502883  \nmin               NaN   34900.000000  \n25%               NaN  129975.000000  \n50%               NaN  163000.000000  \n75%               NaN  214000.000000  \nmax               NaN  755000.000000  \n\n[11 rows x 81 columns]\n"
     ]
    }
   ],
   "source": [
    "# let's also check the column names summary statistics\n",
    "print(housing_data.describe(include='all'))      # you can also just use `housing_data.dtypes` to just check for the data types"
   ]
  },
  {
   "cell_type": "code",
   "execution_count": 28,
   "metadata": {},
   "outputs": [
    {
     "output_type": "stream",
     "name": "stdout",
     "text": [
      "Index(['LotFrontage', 'Alley', 'MasVnrType', 'MasVnrArea', 'BsmtQual',\n       'BsmtCond', 'BsmtExposure', 'BsmtFinType1', 'BsmtFinType2',\n       'Electrical', 'FireplaceQu', 'GarageType', 'GarageYrBlt',\n       'GarageFinish', 'GarageQual', 'GarageCond', 'PoolQC', 'Fence',\n       'MiscFeature'],\n      dtype='object')\n\nThe total % of columns with missing values: 23.46 %\n"
     ]
    }
   ],
   "source": [
    "# checking of the prevalence of missing values\n",
    "print(housing_data.columns[housing_data.isnull().sum() > 0])      # filtering for columns with null values\n",
    "\n",
    "# what is the percentage of missing columns in the bigger picture?\n",
    "missing_cols = housing_data.columns[housing_data.isnull().sum() > 0]\n",
    "print(f\"\\nThe total % of columns with missing values: {len(missing_cols)/housing_data.shape[1] * 100:.2f} %\")"
   ]
  },
  {
   "source": [
    "After running through a set of high-level data exploration, we understood that the `train.csv` – housing_data DataFrame, is not 100% perfect. We observed that there is a total of `23.46%` columns (out of 81) highlighted to contain missing/null values. We, as a data analyst/scientist exploring this dataset should keep this in mind as we proceed further with Exploratory Data Analysis. We do not need to start cleaning any data yet but eventually, we will need find ways to prepare the `housing_data` DataFrame in a suitable way, in order for us to conduct appropriate machine-learning and generate certain predictive results. \n",
    "\n",
    "Hence as such, we have answered the following question in `Section 0`: \n",
    "\n",
    "        * What is the shape of your data i.e. number of rows and columns?\n",
    "        * For the numerical columns, what does the distributions look like?\n",
    "        * What is the name of the column to be predicted?"
   ],
   "cell_type": "markdown",
   "metadata": {}
  },
  {
   "source": [
    "### 1. Exploratory Data Analysis (EDA)"
   ],
   "cell_type": "markdown",
   "metadata": {}
  },
  {
   "cell_type": "code",
   "execution_count": null,
   "metadata": {},
   "outputs": [],
   "source": []
  }
 ]
}