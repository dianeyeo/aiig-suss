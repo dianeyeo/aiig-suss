{
 "cells": [
  {
   "cell_type": "markdown",
   "metadata": {},
   "source": [
    "# Classification 2\n",
    "\n",
    "## Exercise 1: Exploratory Data Analysis\n",
    "\n",
    "### Overview\n",
    "\n",
    "The objective of this course is to build models to predict customer churn for a fictitious telco company. Before we start creating models, let's begin by having a closer look at our data and doing some basic data wrangling.\n",
    "\n",
    "Go through this notebook and modify the code accordingly (i.e. #TASK) based on the text and/or the comments.\n",
    "\n",
    "### Data\n",
    "Download data from here:\n",
    "https://public.dhe.ibm.com/software/data/sw-library/cognos/mobile/C11/data/Telco_customer_churn.xlsx\n",
    "\n",
    "Description of data (for a newer version)\n",
    "https://community.ibm.com/community/user/businessanalytics/blogs/steven-macko/2019/07/11/telco-customer-churn-1113\n",
    "\n",
    "### Importing Libraries"
   ]
  },
  {
   "cell_type": "code",
   "execution_count": 1,
   "metadata": {},
   "outputs": [],
   "source": [
    "import matplotlib.pyplot as plt\n",
    "import numpy as np\n",
    "import pandas as pd\n",
    "import seaborn as sns\n",
    "import warnings\n",
    "\n",
    "# silence all warnings\n",
    "warnings.filterwarnings(\"ignore\")\n",
    "\n",
    "# plotting settings\n",
    "plt.style.use(['seaborn-paper'])\n",
    "plt.rcParams['font.family'] = 'helvetica'"
   ]
  },
  {
   "cell_type": "markdown",
   "metadata": {},
   "source": [
    "### Reading in the Data"
   ]
  },
  {
   "cell_type": "code",
   "execution_count": 2,
   "metadata": {},
   "outputs": [
    {
     "output_type": "execute_result",
     "data": {
      "text/plain": [
       "   CustomerID  Count        Country       State         City  Zip Code  \\\n",
       "0  3668-QPYBK      1  United States  California  Los Angeles     90003   \n",
       "1  9237-HQITU      1  United States  California  Los Angeles     90005   \n",
       "2  9305-CDSKC      1  United States  California  Los Angeles     90006   \n",
       "3  7892-POOKP      1  United States  California  Los Angeles     90010   \n",
       "4  0280-XJGEX      1  United States  California  Los Angeles     90015   \n",
       "\n",
       "                 Lat Long   Latitude   Longitude  Gender  ...        Contract  \\\n",
       "0  33.964131, -118.272783  33.964131 -118.272783    Male  ...  Month-to-month   \n",
       "1   34.059281, -118.30742  34.059281 -118.307420  Female  ...  Month-to-month   \n",
       "2  34.048013, -118.293953  34.048013 -118.293953  Female  ...  Month-to-month   \n",
       "3  34.062125, -118.315709  34.062125 -118.315709  Female  ...  Month-to-month   \n",
       "4  34.039224, -118.266293  34.039224 -118.266293    Male  ...  Month-to-month   \n",
       "\n",
       "  Paperless Billing             Payment Method  Monthly Charges Total Charges  \\\n",
       "0               Yes               Mailed check            53.85        108.15   \n",
       "1               Yes           Electronic check            70.70        151.65   \n",
       "2               Yes           Electronic check            99.65        820.50   \n",
       "3               Yes           Electronic check           104.80       3046.05   \n",
       "4               Yes  Bank transfer (automatic)           103.70       5036.30   \n",
       "\n",
       "  Churn Label Churn Value Churn Score  CLTV                   Churn Reason  \n",
       "0         Yes           1          86  3239   Competitor made better offer  \n",
       "1         Yes           1          67  2701                          Moved  \n",
       "2         Yes           1          86  5372                          Moved  \n",
       "3         Yes           1          84  5003                          Moved  \n",
       "4         Yes           1          89  5340  Competitor had better devices  \n",
       "\n",
       "[5 rows x 33 columns]"
      ],
      "text/html": "<div>\n<style scoped>\n    .dataframe tbody tr th:only-of-type {\n        vertical-align: middle;\n    }\n\n    .dataframe tbody tr th {\n        vertical-align: top;\n    }\n\n    .dataframe thead th {\n        text-align: right;\n    }\n</style>\n<table border=\"1\" class=\"dataframe\">\n  <thead>\n    <tr style=\"text-align: right;\">\n      <th></th>\n      <th>CustomerID</th>\n      <th>Count</th>\n      <th>Country</th>\n      <th>State</th>\n      <th>City</th>\n      <th>Zip Code</th>\n      <th>Lat Long</th>\n      <th>Latitude</th>\n      <th>Longitude</th>\n      <th>Gender</th>\n      <th>...</th>\n      <th>Contract</th>\n      <th>Paperless Billing</th>\n      <th>Payment Method</th>\n      <th>Monthly Charges</th>\n      <th>Total Charges</th>\n      <th>Churn Label</th>\n      <th>Churn Value</th>\n      <th>Churn Score</th>\n      <th>CLTV</th>\n      <th>Churn Reason</th>\n    </tr>\n  </thead>\n  <tbody>\n    <tr>\n      <th>0</th>\n      <td>3668-QPYBK</td>\n      <td>1</td>\n      <td>United States</td>\n      <td>California</td>\n      <td>Los Angeles</td>\n      <td>90003</td>\n      <td>33.964131, -118.272783</td>\n      <td>33.964131</td>\n      <td>-118.272783</td>\n      <td>Male</td>\n      <td>...</td>\n      <td>Month-to-month</td>\n      <td>Yes</td>\n      <td>Mailed check</td>\n      <td>53.85</td>\n      <td>108.15</td>\n      <td>Yes</td>\n      <td>1</td>\n      <td>86</td>\n      <td>3239</td>\n      <td>Competitor made better offer</td>\n    </tr>\n    <tr>\n      <th>1</th>\n      <td>9237-HQITU</td>\n      <td>1</td>\n      <td>United States</td>\n      <td>California</td>\n      <td>Los Angeles</td>\n      <td>90005</td>\n      <td>34.059281, -118.30742</td>\n      <td>34.059281</td>\n      <td>-118.307420</td>\n      <td>Female</td>\n      <td>...</td>\n      <td>Month-to-month</td>\n      <td>Yes</td>\n      <td>Electronic check</td>\n      <td>70.70</td>\n      <td>151.65</td>\n      <td>Yes</td>\n      <td>1</td>\n      <td>67</td>\n      <td>2701</td>\n      <td>Moved</td>\n    </tr>\n    <tr>\n      <th>2</th>\n      <td>9305-CDSKC</td>\n      <td>1</td>\n      <td>United States</td>\n      <td>California</td>\n      <td>Los Angeles</td>\n      <td>90006</td>\n      <td>34.048013, -118.293953</td>\n      <td>34.048013</td>\n      <td>-118.293953</td>\n      <td>Female</td>\n      <td>...</td>\n      <td>Month-to-month</td>\n      <td>Yes</td>\n      <td>Electronic check</td>\n      <td>99.65</td>\n      <td>820.50</td>\n      <td>Yes</td>\n      <td>1</td>\n      <td>86</td>\n      <td>5372</td>\n      <td>Moved</td>\n    </tr>\n    <tr>\n      <th>3</th>\n      <td>7892-POOKP</td>\n      <td>1</td>\n      <td>United States</td>\n      <td>California</td>\n      <td>Los Angeles</td>\n      <td>90010</td>\n      <td>34.062125, -118.315709</td>\n      <td>34.062125</td>\n      <td>-118.315709</td>\n      <td>Female</td>\n      <td>...</td>\n      <td>Month-to-month</td>\n      <td>Yes</td>\n      <td>Electronic check</td>\n      <td>104.80</td>\n      <td>3046.05</td>\n      <td>Yes</td>\n      <td>1</td>\n      <td>84</td>\n      <td>5003</td>\n      <td>Moved</td>\n    </tr>\n    <tr>\n      <th>4</th>\n      <td>0280-XJGEX</td>\n      <td>1</td>\n      <td>United States</td>\n      <td>California</td>\n      <td>Los Angeles</td>\n      <td>90015</td>\n      <td>34.039224, -118.266293</td>\n      <td>34.039224</td>\n      <td>-118.266293</td>\n      <td>Male</td>\n      <td>...</td>\n      <td>Month-to-month</td>\n      <td>Yes</td>\n      <td>Bank transfer (automatic)</td>\n      <td>103.70</td>\n      <td>5036.30</td>\n      <td>Yes</td>\n      <td>1</td>\n      <td>89</td>\n      <td>5340</td>\n      <td>Competitor had better devices</td>\n    </tr>\n  </tbody>\n</table>\n<p>5 rows × 33 columns</p>\n</div>"
     },
     "metadata": {},
     "execution_count": 2
    }
   ],
   "source": [
    "# Use the parameter na_values=\" \" to convert any empty cells to a NA value.\n",
    "# You may also need to use parameter engine='openpyxl') in newer versions of pandas if you encounter an XLRD error.\n",
    "data = pd.read_excel(\"../data/raw/Telco_customer_churn.xlsx\", na_values=\" \", engine='openpyxl')\n",
    "data.head()"
   ]
  },
  {
   "cell_type": "code",
   "execution_count": 3,
   "metadata": {},
   "outputs": [],
   "source": [
    "# Define columns to keep and filter the original dataset\n",
    "cols_to_keep = ['CustomerID', 'Gender', 'Senior Citizen', 'Partner', 'Dependents', 'Tenure Months', 'Phone Service', 'Multiple Lines', 'Internet Service', 'Online Security', 'Online Backup', 'Device Protection', 'Tech Support', 'Streaming TV', 'Streaming Movies', 'Contract', 'Paperless Billing', 'Payment Method', 'Monthly Charges', 'Total Charges', 'Churn Label']\n",
    "data = data[cols_to_keep]"
   ]
  },
  {
   "cell_type": "code",
   "execution_count": 4,
   "metadata": {},
   "outputs": [],
   "source": [
    "# TASK: Rename the multi-worded columns to remove the space \n",
    "# HINT: You can either manually remove the spaces in the column name list or use a loop to remove the space\n",
    "data.columns = [('').join(col.split(' ')) for col in data.columns]"
   ]
  },
  {
   "cell_type": "markdown",
   "metadata": {},
   "source": [
    "### 0. Basic Information"
   ]
  },
  {
   "cell_type": "code",
   "execution_count": null,
   "metadata": {},
   "outputs": [],
   "source": [
    "# TASK: Display the number of rows and columns for the dataset\n",
    "print(f\"Rows & Columns: {data.shape}\")"
   ]
  },
  {
   "cell_type": "code",
   "execution_count": null,
   "metadata": {},
   "outputs": [],
   "source": [
    "# How many columns are numerical and how many are non-numerical\n",
    "cat_cols = data.dtypes[data.dtypes == 'object'].index.tolist()\n",
    "# include float, int\n",
    "num_cols = data.dtypes[data.dtypes != 'object'].index.tolist()\n",
    "# check that cat + num = total\n",
    "assert(len(cat_cols) + len(num_cols) == len(data.columns))\n",
    "\n",
    "# summary\n",
    "print(f\"Categorical columns: {cat_cols}\\n\")\n",
    "print(f\"Numerical columns: {num_cols}\\n\")\n",
    "print(f\"Total columns: {len(cat_cols)} categorical, {len(num_cols)} numerical.\")"
   ]
  },
  {
   "cell_type": "code",
   "execution_count": null,
   "metadata": {},
   "outputs": [],
   "source": [
    "# count the number of entries for each of the column. Are there any columns with missing values?\n",
    "print(data.count())\n",
    "\n",
    "# to check for missing % \n",
    "print(\"\\n\")\n",
    "print(data.isnull().mean())     # TotalCharges has null values, but relatively small"
   ]
  },
  {
   "cell_type": "code",
   "execution_count": null,
   "metadata": {},
   "outputs": [],
   "source": [
    "# count the number of unique values for each of the columns\n",
    "print(data.nunique())"
   ]
  },
  {
   "cell_type": "code",
   "execution_count": null,
   "metadata": {},
   "outputs": [],
   "source": [
    "# Based on this and the previous display, how would you describe the columns with a small number (less than 10) of unique values?\n",
    "data.head(10)"
   ]
  },
  {
   "source": [
    "We observe that columns with small number of unique values are mostly categorical columns where the field represents specific categories such as `DeviceProtection` covering responses like *'Yes', 'No', 'No internet servce'* etc. However, we do also observe categorical columns having a large number of unique values – `CustomerID`, which is expected as each customer id is uniquely identifying a specific customers hence, the column would soley be consisting of unique values. Otherwise, other columns of large number of unique values are all numerical columns where the column represents either continuous values such as `MonthyCharges` (in $) or discrete values like `TenureMonths` which represents the months the customer has been with the telco."
   ],
   "cell_type": "markdown",
   "metadata": {}
  },
  {
   "cell_type": "code",
   "execution_count": null,
   "metadata": {},
   "outputs": [],
   "source": [
    "# Let's analyze the values for the categorical features (columns with less than 10 unique values)\n",
    "for id, row in data.nunique().iteritems(): # this counts the number of unique values for each feature and returns the result as a dictionary\n",
    "    if(row < 10):\n",
    "        print(f\"{id} : {data[id].unique()}\")"
   ]
  },
  {
   "cell_type": "code",
   "execution_count": null,
   "metadata": {},
   "outputs": [],
   "source": [
    "# For columns with 3 or 4 unique values, display them to see if they make sense\n",
    "for col in ['MultipleLines', 'InternetService', 'OnlineSecurity', 'OnlineBackup', 'DeviceProtection', 'TechSupport', 'StreamingTV', 'StreamingMovies', 'Contract', \"PaymentMethod\"]:\n",
    "    print(f\"{col} : {data[col].unique()}\")"
   ]
  },
  {
   "cell_type": "markdown",
   "metadata": {},
   "source": [
    "**Observations**\n",
    "\n",
    "- The value 'No phone service' found in MultipleLines is already captured by the PhoneService feature ('No' value)\n",
    "- The value 'No internet service' found in the several features is already captured by InternetService feature ('No' value)\n",
    "- Values that are longer or more complex may need to be simplified.\n",
    "\n",
    "Conclusion: These values can be considered duplicated information as they are found in the PhoneService and InternetService features. There are several options to consider here:\n",
    "\n",
    "- Retain all features and values as is\n",
    "- Convert the 'No Internet Service'/'No phone service' to 'No' in the features as PhoneService and InternetService features has already captured this information\n",
    "- Remove the PhoneService feature as MultipleLines feature has this information. To remove the InternetService feature, we would have to 'fold in' the values in the other features e.g. the values for OnlineSecurity could be changed to ['DSL_No','DSL_Yes','FiberOptic_No','FiberOptic_Yes','No internet service']\n",
    "\n",
    "For this course, we will be using the second option (without justification). You are encouraged to test the others options during modelling to see if there are any impact."
   ]
  },
  {
   "cell_type": "markdown",
   "metadata": {},
   "source": [
    "### Data Wrangling\n",
    "\n",
    "Based on the discoveries made above, we will be modifying our data before continuing the exploration."
   ]
  },
  {
   "cell_type": "code",
   "execution_count": null,
   "metadata": {},
   "outputs": [],
   "source": [
    "# Replace 'No phone service'\n",
    "data['MultipleLines'] = data['MultipleLines'].replace({'No phone service':'No'})"
   ]
  },
  {
   "cell_type": "code",
   "execution_count": null,
   "metadata": {},
   "outputs": [],
   "source": [
    "# similar to the operation for 'No phone service' above\n",
    "for col in ['OnlineSecurity', 'OnlineBackup', 'DeviceProtection', 'TechSupport', 'StreamingTV', 'StreamingMovies']:\n",
    "    data[col] = data[col].replace({'No internet service': 'No'})"
   ]
  },
  {
   "cell_type": "code",
   "execution_count": null,
   "metadata": {},
   "outputs": [],
   "source": [
    "# Simplify the values made up of phrases\n",
    "data['PaymentMethod'] = data['PaymentMethod'].replace({\n",
    "    'Bank transfer (automatic)':'transfer',\n",
    "    'Credit card (automatic)':'creditcard',\n",
    "    'Electronic check':'echeck',\n",
    "    'Mailed check':'mcheck'\n",
    "})\n",
    "\n",
    "data['InternetService'] = data['InternetService'].replace({\n",
    "    'Fiber optic':'FiberOptic'\n",
    "})\n",
    "\n",
    "data['Contract'] = data['Contract'].replace({\n",
    "    'Month-to-month':'M2M',\n",
    "    'One year':'OneYear',\n",
    "    'Two year':'TwoYear'\n",
    "})"
   ]
  },
  {
   "cell_type": "code",
   "execution_count": null,
   "metadata": {},
   "outputs": [],
   "source": [
    "# Remove the rows with empty TotalCharges value\n",
    "data = data[data[\"TotalCharges\"].notnull()]"
   ]
  },
  {
   "cell_type": "code",
   "execution_count": null,
   "metadata": {},
   "outputs": [],
   "source": [
    "# After data wrangling, repeat prints\n",
    "print(\"Rows & Columns: {}\".format(data.shape))\n",
    "print(\"################################################\")\n",
    "# Number of unique values for each of the columns\n",
    "print(data.nunique())\n",
    "print(\"################################################\")\n",
    "# Check the data types\n",
    "print(data.dtypes)\n",
    "print(\"################################################\")\n",
    "# Display first few values\n",
    "print(data.head())"
   ]
  },
  {
   "cell_type": "code",
   "execution_count": null,
   "metadata": {},
   "outputs": [],
   "source": [
    "# Randomly display 1 row from the dataframe\n",
    "print(data.sample(n=1).iloc[0])"
   ]
  },
  {
   "cell_type": "code",
   "execution_count": null,
   "metadata": {},
   "outputs": [],
   "source": [
    "# TASK: Save the data as a CSV fiile\n",
    "data.to_csv(\"../data/interim/telco_churn.csv\", index=False)"
   ]
  },
  {
   "cell_type": "markdown",
   "metadata": {},
   "source": [
    "### 1. Additional Exploration\n",
    "\n",
    "**TASK:** This is the open-ended section of the exercise. Use any exploration techniques that you know to further explore and understand your data. We expect a number of visualizations that can show the relationships between features as well as between features and the outcome variable 'ChurnLabel'. Some of the questions in the quiz may require you to perform additional analyses."
   ]
  },
  {
   "source": [
    "Based on the previous section of data exploration, we have already covered the following questions that we might have about the dataset:\n",
    ">>\n",
    "1. What is the shape of your data? Number of rows and columns.\n",
    "2. How many of the columns are numerical and how many are categorical?\n",
    "3. What is the name of the column to be predicted?\n",
    "4. For the numerical columns, how many missing values are there for each column?\n",
    "5. For the categorical columns, how many misisng values are there for each column?\n",
    "\n",
    "Those are some questions that we can simply obtain answer to by looking at the dataframe through its various methods. However, we still have some concerns about the dataset that we want to explore through effective visualisations. Hence, in the following section, we want to explore the following questions:\n",
    ">>\n",
    "1. For the numerical columns, what does the distributions look like?\n",
    "2. How are the various attributes correlated to the outcome variable?\n",
    "3. What visualizations can you use to highlight outliers in the data?"
   ],
   "cell_type": "markdown",
   "metadata": {}
  },
  {
   "source": [
    "##### Recapping on the columns\n",
    "\n",
    "Before we begin to decide on the type of visualisations to use to aim our understanding, let's recap on the columns we have and the data type of it."
   ],
   "cell_type": "markdown",
   "metadata": {}
  },
  {
   "cell_type": "code",
   "execution_count": null,
   "metadata": {},
   "outputs": [],
   "source": [
    "print(f\"Categorical columns: {cat_cols}\\n\")\n",
    "print(f\"Numerical columns: {num_cols}\\n\")\n",
    "print(f\"Total columns: {len(cat_cols)} categorical, {len(num_cols)} numerical.\")"
   ]
  },
  {
   "source": [
    "##### Utilities Functions\n",
    "Let's define some helper functions that will help us iterate through all the columns with same datatype. "
   ],
   "cell_type": "markdown",
   "metadata": {}
  },
  {
   "cell_type": "code",
   "execution_count": null,
   "metadata": {},
   "outputs": [],
   "source": [
    "# Example: Look at Churn vs MonthCharges\n",
    "plt.clf()\n",
    "for label in ['Yes','No']:\n",
    "    subset = data[data.ChurnLabel==label]\n",
    "    \n",
    "    # Draw the density plot\n",
    "    sns.distplot(subset['MonthlyCharges'], hist = False, kde = True,\n",
    "                 kde_kws = {'linewidth': 3, 'shade':True},\n",
    "                 label = label)\n",
    "    \n",
    "# Plot formatting\n",
    "plt.legend(prop={'size': 16}, title = 'ChurnLabel')\n",
    "plt.title('Density Plot with ChurnLabel')\n",
    "plt.xlabel('') # Monthly Charges\n",
    "plt.ylabel('Density')\n",
    "plt.show()"
   ]
  },
  {
   "cell_type": "code",
   "execution_count": null,
   "metadata": {},
   "outputs": [],
   "source": [
    "# Additional Exploration"
   ]
  }
 ],
 "metadata": {
  "kernelspec": {
   "name": "python3",
   "display_name": "Python 3.9.4 64-bit"
  },
  "language_info": {
   "codemirror_mode": {
    "name": "ipython",
    "version": 3
   },
   "file_extension": ".py",
   "mimetype": "text/x-python",
   "name": "python",
   "nbconvert_exporter": "python",
   "pygments_lexer": "ipython3",
   "version": "3.9.4"
  },
  "interpreter": {
   "hash": "aee8b7b246df8f9039afb4144a1f6fd8d2ca17a180786b69acc140d282b71a49"
  }
 },
 "nbformat": 4,
 "nbformat_minor": 4
}